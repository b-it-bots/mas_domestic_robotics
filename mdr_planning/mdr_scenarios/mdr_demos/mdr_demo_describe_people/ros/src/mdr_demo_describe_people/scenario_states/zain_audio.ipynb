{
 "cells": [
  {
   "cell_type": "code",
   "execution_count": 5,
   "id": "92e34bae",
   "metadata": {},
   "outputs": [
    {
     "name": "stdout",
     "output_type": "stream",
     "text": [
      "Say something!\n",
      "result2:\n",
      "{   'alternative': [   {   'confidence': 0.95212841,\n",
      "                           'transcript': 'turn on the lights in the living '\n",
      "                                         'room'}],\n",
      "    'final': True}\n",
      "You said: turn on the lights in the living room\n",
      "[] []\n",
      "Say something!\n",
      "result2:\n",
      "[]\n",
      "Sorry, I'm having trouble understanding you. Please speak more clearly.\n",
      "Say something!\n",
      "result2:\n",
      "[]\n",
      "I'm sorry, I didn't understand that. Please try again.\n",
      "Say something!\n"
     ]
    },
    {
     "ename": "KeyboardInterrupt",
     "evalue": "",
     "output_type": "error",
     "traceback": [
      "\u001b[1;31m---------------------------------------------------------------------------\u001b[0m",
      "\u001b[1;31mKeyboardInterrupt\u001b[0m                         Traceback (most recent call last)",
      "\u001b[1;32m~\\AppData\\Local\\Temp\\ipykernel_5464\\1833058607.py\u001b[0m in \u001b[0;36m<module>\u001b[1;34m\u001b[0m\n\u001b[0;32m     73\u001b[0m \u001b[1;31m# Define a loop to keep the chatbot running and listening for voice input\u001b[0m\u001b[1;33m\u001b[0m\u001b[1;33m\u001b[0m\u001b[1;33m\u001b[0m\u001b[0m\n\u001b[0;32m     74\u001b[0m \u001b[1;32mwhile\u001b[0m \u001b[1;32mTrue\u001b[0m\u001b[1;33m:\u001b[0m\u001b[1;33m\u001b[0m\u001b[1;33m\u001b[0m\u001b[0m\n\u001b[1;32m---> 75\u001b[1;33m     \u001b[0mlisten\u001b[0m\u001b[1;33m(\u001b[0m\u001b[1;33m)\u001b[0m\u001b[1;33m\u001b[0m\u001b[1;33m\u001b[0m\u001b[0m\n\u001b[0m",
      "\u001b[1;32m~\\AppData\\Local\\Temp\\ipykernel_5464\\1833058607.py\u001b[0m in \u001b[0;36mlisten\u001b[1;34m()\u001b[0m\n\u001b[0;32m     59\u001b[0m     \u001b[1;32mwith\u001b[0m \u001b[0msr\u001b[0m\u001b[1;33m.\u001b[0m\u001b[0mMicrophone\u001b[0m\u001b[1;33m(\u001b[0m\u001b[1;33m)\u001b[0m \u001b[1;32mas\u001b[0m \u001b[0msource\u001b[0m\u001b[1;33m:\u001b[0m\u001b[1;33m\u001b[0m\u001b[1;33m\u001b[0m\u001b[0m\n\u001b[0;32m     60\u001b[0m         \u001b[0mprint\u001b[0m\u001b[1;33m(\u001b[0m\u001b[1;34m\"Say something!\"\u001b[0m\u001b[1;33m)\u001b[0m\u001b[1;33m\u001b[0m\u001b[1;33m\u001b[0m\u001b[0m\n\u001b[1;32m---> 61\u001b[1;33m         \u001b[0maudio\u001b[0m \u001b[1;33m=\u001b[0m \u001b[0mr\u001b[0m\u001b[1;33m.\u001b[0m\u001b[0mlisten\u001b[0m\u001b[1;33m(\u001b[0m\u001b[0msource\u001b[0m\u001b[1;33m)\u001b[0m\u001b[1;33m\u001b[0m\u001b[1;33m\u001b[0m\u001b[0m\n\u001b[0m\u001b[0;32m     62\u001b[0m \u001b[1;33m\u001b[0m\u001b[0m\n\u001b[0;32m     63\u001b[0m     \u001b[1;32mtry\u001b[0m\u001b[1;33m:\u001b[0m\u001b[1;33m\u001b[0m\u001b[1;33m\u001b[0m\u001b[0m\n",
      "\u001b[1;32mD:\\anaconda3\\envs\\sdp\\lib\\site-packages\\speech_recognition\\__init__.py\u001b[0m in \u001b[0;36mlisten\u001b[1;34m(self, source, timeout, phrase_time_limit, snowboy_configuration)\u001b[0m\n\u001b[0;32m    707\u001b[0m                     \u001b[1;32mbreak\u001b[0m\u001b[1;33m\u001b[0m\u001b[1;33m\u001b[0m\u001b[0m\n\u001b[0;32m    708\u001b[0m \u001b[1;33m\u001b[0m\u001b[0m\n\u001b[1;32m--> 709\u001b[1;33m                 \u001b[0mbuffer\u001b[0m \u001b[1;33m=\u001b[0m \u001b[0msource\u001b[0m\u001b[1;33m.\u001b[0m\u001b[0mstream\u001b[0m\u001b[1;33m.\u001b[0m\u001b[0mread\u001b[0m\u001b[1;33m(\u001b[0m\u001b[0msource\u001b[0m\u001b[1;33m.\u001b[0m\u001b[0mCHUNK\u001b[0m\u001b[1;33m)\u001b[0m\u001b[1;33m\u001b[0m\u001b[1;33m\u001b[0m\u001b[0m\n\u001b[0m\u001b[0;32m    710\u001b[0m                 \u001b[1;32mif\u001b[0m \u001b[0mlen\u001b[0m\u001b[1;33m(\u001b[0m\u001b[0mbuffer\u001b[0m\u001b[1;33m)\u001b[0m \u001b[1;33m==\u001b[0m \u001b[1;36m0\u001b[0m\u001b[1;33m:\u001b[0m \u001b[1;32mbreak\u001b[0m  \u001b[1;31m# reached end of the stream\u001b[0m\u001b[1;33m\u001b[0m\u001b[1;33m\u001b[0m\u001b[0m\n\u001b[0;32m    711\u001b[0m                 \u001b[0mframes\u001b[0m\u001b[1;33m.\u001b[0m\u001b[0mappend\u001b[0m\u001b[1;33m(\u001b[0m\u001b[0mbuffer\u001b[0m\u001b[1;33m)\u001b[0m\u001b[1;33m\u001b[0m\u001b[1;33m\u001b[0m\u001b[0m\n",
      "\u001b[1;32mD:\\anaconda3\\envs\\sdp\\lib\\site-packages\\speech_recognition\\__init__.py\u001b[0m in \u001b[0;36mread\u001b[1;34m(self, size)\u001b[0m\n\u001b[0;32m    209\u001b[0m \u001b[1;33m\u001b[0m\u001b[0m\n\u001b[0;32m    210\u001b[0m         \u001b[1;32mdef\u001b[0m \u001b[0mread\u001b[0m\u001b[1;33m(\u001b[0m\u001b[0mself\u001b[0m\u001b[1;33m,\u001b[0m \u001b[0msize\u001b[0m\u001b[1;33m)\u001b[0m\u001b[1;33m:\u001b[0m\u001b[1;33m\u001b[0m\u001b[1;33m\u001b[0m\u001b[0m\n\u001b[1;32m--> 211\u001b[1;33m             \u001b[1;32mreturn\u001b[0m \u001b[0mself\u001b[0m\u001b[1;33m.\u001b[0m\u001b[0mpyaudio_stream\u001b[0m\u001b[1;33m.\u001b[0m\u001b[0mread\u001b[0m\u001b[1;33m(\u001b[0m\u001b[0msize\u001b[0m\u001b[1;33m,\u001b[0m \u001b[0mexception_on_overflow\u001b[0m\u001b[1;33m=\u001b[0m\u001b[1;32mFalse\u001b[0m\u001b[1;33m)\u001b[0m\u001b[1;33m\u001b[0m\u001b[1;33m\u001b[0m\u001b[0m\n\u001b[0m\u001b[0;32m    212\u001b[0m \u001b[1;33m\u001b[0m\u001b[0m\n\u001b[0;32m    213\u001b[0m         \u001b[1;32mdef\u001b[0m \u001b[0mclose\u001b[0m\u001b[1;33m(\u001b[0m\u001b[0mself\u001b[0m\u001b[1;33m)\u001b[0m\u001b[1;33m:\u001b[0m\u001b[1;33m\u001b[0m\u001b[1;33m\u001b[0m\u001b[0m\n",
      "\u001b[1;32mD:\\anaconda3\\envs\\sdp\\lib\\site-packages\\pyaudio\\__init__.py\u001b[0m in \u001b[0;36mread\u001b[1;34m(self, num_frames, exception_on_overflow)\u001b[0m\n\u001b[0;32m    568\u001b[0m                 raise IOError(\"Not input stream\",\n\u001b[0;32m    569\u001b[0m                               paCanNotReadFromAnOutputOnlyStream)\n\u001b[1;32m--> 570\u001b[1;33m             return pa.read_stream(self._stream, num_frames,\n\u001b[0m\u001b[0;32m    571\u001b[0m                                   exception_on_overflow)\n\u001b[0;32m    572\u001b[0m \u001b[1;33m\u001b[0m\u001b[0m\n",
      "\u001b[1;31mKeyboardInterrupt\u001b[0m: "
     ]
    }
   ],
   "source": [
    "import random\n",
    "import speech_recognition as sr\n",
    "import spacy\n",
    "\n",
    "# Load the spaCy model\n",
    "nlp = spacy.load(\"en_core_web_sm\")\n",
    "\n",
    "# Define a list of possible friendly responses from the robot\n",
    "friendly_responses = [\"Sure, I can do that.\", \"No problem.\", \"Okay, I'm on it.\", \"Consider it done.\"]\n",
    "\n",
    "# Define a list of possible error responses from the robot\n",
    "error_responses = [\"I'm sorry, I didn't understand that. Please try again.\", \"I didn't quite catch that. Can you repeat it?\", \"Sorry, I'm having trouble understanding you. Please speak more clearly.\"]\n",
    "\n",
    "# Define a function to generate a friendly response from the robot\n",
    "def generate_friendly_response():\n",
    "    return random.choice(friendly_responses)\n",
    "\n",
    "# Define a function to generate an error response from the robot\n",
    "def generate_error_response():\n",
    "    return random.choice(error_responses)\n",
    "\n",
    "# Define a function to process user input and generate a response\n",
    "def process_user_input(user_input):\n",
    "    # Parse the user input using spaCy\n",
    "    doc = nlp(user_input)\n",
    "    \n",
    "    # Extract object and location entities from the parsed text\n",
    "    obj = None\n",
    "    loc = None\n",
    "    obj_lst = []\n",
    "    loc_lst = []\n",
    "    \n",
    "    for ent in doc.ents:\n",
    "        if ent.label_ == \"OBJECT\":\n",
    "            obj = ent.text\n",
    "            obj_lst.append(ent.text)\n",
    "        elif ent.label_ == \"LOCATION\":\n",
    "            loc = ent.text\n",
    "            loc_lst.append(ent.text)\n",
    "            \n",
    "            \n",
    "    return obj_lst, loc_lst\n",
    "    \n",
    "    # Determine the action to take based on the extracted entities\n",
    "#     if obj == \"lights\" and loc == \"living room\":\n",
    "#         # Replace with code to communicate with your home assistant robot to turn on the lights in the living room\n",
    "#         return generate_friendly_response()\n",
    "#     elif obj == \"music\" and loc == \"bedroom\":\n",
    "#         # Replace with code to communicate with your home assistant robot to play music in the bedroom\n",
    "#         return generate_friendly_response()\n",
    "#     else:\n",
    "#         return generate_error_response()\n",
    "\n",
    "# Initialize the speech recognition module\n",
    "r = sr.Recognizer()\n",
    "\n",
    "# Define a function to listen for voice input and pass it to the chatbot\n",
    "def listen():\n",
    "    with sr.Microphone() as source:\n",
    "        print(\"Say something!\")\n",
    "        audio = r.listen(source)\n",
    "    \n",
    "    try:\n",
    "        user_input = r.recognize_google(audio)\n",
    "        print(\"You said:\", user_input)\n",
    "        objects, locations = process_user_input(user_input)\n",
    "        print(objects, locations)\n",
    "    except sr.UnknownValueError:\n",
    "        print(generate_error_response())\n",
    "    except sr.RequestError as e:\n",
    "        print(\"Sorry, there was an error processing your request. Please try again later.\")\n",
    "\n",
    "# Define a loop to keep the chatbot running and listening for voice input\n",
    "while True:\n",
    "    listen()"
   ]
  },
  {
   "cell_type": "code",
   "execution_count": 2,
   "id": "004c9f24",
   "metadata": {},
   "outputs": [
    {
     "name": "stdout",
     "output_type": "stream",
     "text": [
      "Requirement already satisfied: pip in d:\\anaconda3\\envs\\sdp\\lib\\site-packages (22.2.2)\n",
      "Collecting pip\n",
      "  Downloading pip-23.1.2-py3-none-any.whl (2.1 MB)\n",
      "     ---------------------------------------- 2.1/2.1 MB 10.1 MB/s eta 0:00:00\n",
      "Requirement already satisfied: setuptools in d:\\anaconda3\\envs\\sdp\\lib\\site-packages (65.5.0)\n",
      "Collecting setuptools\n",
      "  Downloading setuptools-67.7.2-py3-none-any.whl (1.1 MB)\n",
      "     ---------------------------------------- 1.1/1.1 MB 13.9 MB/s eta 0:00:00\n",
      "Requirement already satisfied: wheel in d:\\anaconda3\\envs\\sdp\\lib\\site-packages (0.37.1)\n",
      "Collecting wheel\n",
      "  Downloading wheel-0.40.0-py3-none-any.whl (64 kB)\n",
      "     ---------------------------------------- 64.5/64.5 kB ? eta 0:00:00\n",
      "Installing collected packages: wheel, setuptools, pip\n",
      "  Attempting uninstall: wheel\n",
      "    Found existing installation: wheel 0.37.1\n",
      "    Uninstalling wheel-0.37.1:\n",
      "      Successfully uninstalled wheel-0.37.1\n",
      "  Attempting uninstall: setuptools\n",
      "    Found existing installation: setuptools 65.5.0\n",
      "    Uninstalling setuptools-65.5.0:\n",
      "      Successfully uninstalled setuptools-65.5.0\n",
      "  Attempting uninstall: pip\n",
      "    Found existing installation: pip 22.2.2\n",
      "    Uninstalling pip-22.2.2:\n",
      "      Successfully uninstalled pip-22.2.2\n",
      "Successfully installed pip-23.1.2 setuptools-67.7.2 wheel-0.40.0\n",
      "Note: you may need to restart the kernel to use updated packages.\n"
     ]
    }
   ],
   "source": [
    "pip install -U pip setuptools wheel"
   ]
  },
  {
   "cell_type": "code",
   "execution_count": 5,
   "id": "b9aaa3e7",
   "metadata": {},
   "outputs": [
    {
     "ename": "SyntaxError",
     "evalue": "invalid syntax (4043358060.py, line 1)",
     "output_type": "error",
     "traceback": [
      "\u001b[1;36m  File \u001b[1;32m\"C:\\Users\\Khawaja Saad\\AppData\\Local\\Temp\\ipykernel_22164\\4043358060.py\"\u001b[1;36m, line \u001b[1;32m1\u001b[0m\n\u001b[1;33m    $pip install -U 'spacy[cuda-autodetect]'\u001b[0m\n\u001b[1;37m    ^\u001b[0m\n\u001b[1;31mSyntaxError\u001b[0m\u001b[1;31m:\u001b[0m invalid syntax\n"
     ]
    }
   ],
   "source": []
  },
  {
   "cell_type": "code",
   "execution_count": 6,
   "id": "2844d338",
   "metadata": {},
   "outputs": [
    {
     "name": "stdout",
     "output_type": "stream",
     "text": [
      "^C\n"
     ]
    }
   ],
   "source": [
    "!conda install -c conda-forge spacy\n"
   ]
  },
  {
   "cell_type": "code",
   "execution_count": 7,
   "id": "d527bc50",
   "metadata": {},
   "outputs": [
    {
     "name": "stderr",
     "output_type": "stream",
     "text": [
      "D:\\anaconda3\\envs\\sdp\\python.exe: No module named spacy\n"
     ]
    }
   ],
   "source": [
    "!python -m spacy download en_core_web_sm"
   ]
  },
  {
   "cell_type": "code",
   "execution_count": 1,
   "id": "00690b09",
   "metadata": {},
   "outputs": [
    {
     "name": "stderr",
     "output_type": "stream",
     "text": [
      "D:\\anaconda3\\envs\\whisper\\Lib\\site-packages\\tqdm\\auto.py:21: TqdmWarning: IProgress not found. Please update jupyter and ipywidgets. See https://ipywidgets.readthedocs.io/en/stable/user_install.html\n",
      "  from .autonotebook import tqdm as notebook_tqdm\n"
     ]
    }
   ],
   "source": [
    "import spacy\n",
    "from spacy.tokens import DocBin\n",
    "from tqdm import tqdm\n",
    "\n",
    "nlp = spacy.blank(\"en\") # load a new spacy model"
   ]
  },
  {
   "cell_type": "code",
   "execution_count": 2,
   "id": "082627f3",
   "metadata": {},
   "outputs": [],
   "source": [
    "nlp_ner = spacy.load(\"model-best\") "
   ]
  },
  {
   "cell_type": "code",
   "execution_count": 11,
   "id": "2bfac51d",
   "metadata": {},
   "outputs": [
    {
     "name": "stdout",
     "output_type": "stream",
     "text": [
      "Say something!\n",
      "You said: Lucy bring me a cup from the shelf\n",
      "cup OBJ\n",
      "shelf LOC\n",
      "{'cup'} {'shelf'}\n",
      "Say something!\n",
      "You said: once we get this oh that's what getting like the carp has an object so he's doing that already this part he's doing but if you're already giving me this\n",
      "set() set()\n",
      "Say something!\n",
      "I didn't quite catch that. Can you repeat it?\n",
      "Say something!\n",
      "I didn't quite catch that. Can you repeat it?\n",
      "Say something!\n",
      "You said: the mic is like another laptop however you\n",
      "mic OBJ\n",
      "{'mic'} set()\n",
      "Say something!\n",
      "I'm sorry, I didn't understand that. Please try again.\n",
      "Say something!\n"
     ]
    },
    {
     "ename": "KeyboardInterrupt",
     "evalue": "",
     "output_type": "error",
     "traceback": [
      "\u001b[1;31m---------------------------------------------------------------------------\u001b[0m",
      "\u001b[1;31mKeyboardInterrupt\u001b[0m                         Traceback (most recent call last)",
      "Cell \u001b[1;32mIn[11], line 65\u001b[0m\n\u001b[0;32m     63\u001b[0m \u001b[38;5;66;03m# Define a loop to keep the chatbot running and listening for voice input\u001b[39;00m\n\u001b[0;32m     64\u001b[0m \u001b[38;5;28;01mwhile\u001b[39;00m \u001b[38;5;28;01mTrue\u001b[39;00m:\n\u001b[1;32m---> 65\u001b[0m     listen()\n",
      "Cell \u001b[1;32mIn[11], line 50\u001b[0m, in \u001b[0;36mlisten\u001b[1;34m()\u001b[0m\n\u001b[0;32m     48\u001b[0m \u001b[38;5;28;01mwith\u001b[39;00m sr\u001b[38;5;241m.\u001b[39mMicrophone() \u001b[38;5;28;01mas\u001b[39;00m source:\n\u001b[0;32m     49\u001b[0m     \u001b[38;5;28mprint\u001b[39m(\u001b[38;5;124m\"\u001b[39m\u001b[38;5;124mSay something!\u001b[39m\u001b[38;5;124m\"\u001b[39m)\n\u001b[1;32m---> 50\u001b[0m     audio \u001b[38;5;241m=\u001b[39m r\u001b[38;5;241m.\u001b[39mlisten(source)\n\u001b[0;32m     52\u001b[0m \u001b[38;5;28;01mtry\u001b[39;00m:\n\u001b[0;32m     53\u001b[0m     user_input \u001b[38;5;241m=\u001b[39m r\u001b[38;5;241m.\u001b[39mrecognize_google(audio)\n",
      "File \u001b[1;32mD:\\anaconda3\\envs\\whisper\\Lib\\site-packages\\speech_recognition\\__init__.py:523\u001b[0m, in \u001b[0;36mRecognizer.listen\u001b[1;34m(self, source, timeout, phrase_time_limit, snowboy_configuration)\u001b[0m\n\u001b[0;32m    520\u001b[0m \u001b[38;5;28;01mif\u001b[39;00m phrase_time_limit \u001b[38;5;129;01mand\u001b[39;00m elapsed_time \u001b[38;5;241m-\u001b[39m phrase_start_time \u001b[38;5;241m>\u001b[39m phrase_time_limit:\n\u001b[0;32m    521\u001b[0m     \u001b[38;5;28;01mbreak\u001b[39;00m\n\u001b[1;32m--> 523\u001b[0m buffer \u001b[38;5;241m=\u001b[39m source\u001b[38;5;241m.\u001b[39mstream\u001b[38;5;241m.\u001b[39mread(source\u001b[38;5;241m.\u001b[39mCHUNK)\n\u001b[0;32m    524\u001b[0m \u001b[38;5;28;01mif\u001b[39;00m \u001b[38;5;28mlen\u001b[39m(buffer) \u001b[38;5;241m==\u001b[39m \u001b[38;5;241m0\u001b[39m: \u001b[38;5;28;01mbreak\u001b[39;00m  \u001b[38;5;66;03m# reached end of the stream\u001b[39;00m\n\u001b[0;32m    525\u001b[0m frames\u001b[38;5;241m.\u001b[39mappend(buffer)\n",
      "File \u001b[1;32mD:\\anaconda3\\envs\\whisper\\Lib\\site-packages\\speech_recognition\\__init__.py:199\u001b[0m, in \u001b[0;36mMicrophone.MicrophoneStream.read\u001b[1;34m(self, size)\u001b[0m\n\u001b[0;32m    198\u001b[0m \u001b[38;5;28;01mdef\u001b[39;00m \u001b[38;5;21mread\u001b[39m(\u001b[38;5;28mself\u001b[39m, size):\n\u001b[1;32m--> 199\u001b[0m     \u001b[38;5;28;01mreturn\u001b[39;00m \u001b[38;5;28mself\u001b[39m\u001b[38;5;241m.\u001b[39mpyaudio_stream\u001b[38;5;241m.\u001b[39mread(size, exception_on_overflow\u001b[38;5;241m=\u001b[39m\u001b[38;5;28;01mFalse\u001b[39;00m)\n",
      "File \u001b[1;32mD:\\anaconda3\\envs\\whisper\\Lib\\site-packages\\pyaudio\\__init__.py:570\u001b[0m, in \u001b[0;36mPyAudio.Stream.read\u001b[1;34m(self, num_frames, exception_on_overflow)\u001b[0m\n\u001b[0;32m    567\u001b[0m \u001b[38;5;28;01mif\u001b[39;00m \u001b[38;5;129;01mnot\u001b[39;00m \u001b[38;5;28mself\u001b[39m\u001b[38;5;241m.\u001b[39m_is_input:\n\u001b[0;32m    568\u001b[0m     \u001b[38;5;28;01mraise\u001b[39;00m \u001b[38;5;167;01mIOError\u001b[39;00m(\u001b[38;5;124m\"\u001b[39m\u001b[38;5;124mNot input stream\u001b[39m\u001b[38;5;124m\"\u001b[39m,\n\u001b[0;32m    569\u001b[0m                   paCanNotReadFromAnOutputOnlyStream)\n\u001b[1;32m--> 570\u001b[0m \u001b[38;5;28;01mreturn\u001b[39;00m pa\u001b[38;5;241m.\u001b[39mread_stream(\u001b[38;5;28mself\u001b[39m\u001b[38;5;241m.\u001b[39m_stream, num_frames,\n\u001b[0;32m    571\u001b[0m                       exception_on_overflow)\n",
      "\u001b[1;31mKeyboardInterrupt\u001b[0m: "
     ]
    }
   ],
   "source": [
    "import random\n",
    "import speech_recognition as sr\n",
    "from transformers import pipeline\n",
    "\n",
    "# Define a list of possible friendly responses from the robot\n",
    "friendly_responses = [\"Sure, I can do that.\", \"No problem.\", \"Okay, I'm on it.\", \"Consider it done.\"]\n",
    "\n",
    "# Define a list of possible error responses from the robot\n",
    "error_responses = [\"I'm sorry, I didn't understand that. Please try again.\", \"I didn't quite catch that. Can you repeat it?\", \"Sorry, I'm having trouble understanding you. Please speak more clearly.\"]\n",
    "\n",
    "# Initialize the speech recognition module\n",
    "r = sr.Recognizer()\n",
    "\n",
    "# Initialize the named entity recognition pipeline from transformers\n",
    "nlp = pipeline(\"ner\", model=\"dslim/bert-base-NER\", tokenizer=\"dslim/bert-base-NER\")\n",
    "\n",
    "# Define a function to generate a friendly response from the robot\n",
    "def generate_friendly_response():\n",
    "    return random.choice(friendly_responses)\n",
    "\n",
    "# Define a function to generate an error response from the robot\n",
    "def generate_error_response():\n",
    "    return random.choice(error_responses)\n",
    "\n",
    "# Define a function to process user input and generate a response\n",
    "def process_user_input(user_input):\n",
    "    # Use the named entity recognition pipeline to extract object and location entities from the user input\n",
    "    entities = nlp_ner(user_input)\n",
    "    obj_lst = []\n",
    "    loc_lst = []\n",
    "    \n",
    "    # Loop through the extracted entities and store the objects and locations in separate lists\n",
    "    objects=[]\n",
    "    locations=[]\n",
    "    for ent in entities.ents:\n",
    "    #     print(type(ent.text),type(ent.label_))\n",
    "\n",
    "        print(ent.text, ent.label_)\n",
    "        if ent.label_=='OBJ':\n",
    "            objects.append(ent.text)\n",
    "        elif ent.label_=='LOC':\n",
    "            locations.append(ent.text)\n",
    "            \n",
    "    return set(objects), set(locations)\n",
    "\n",
    "# Define a function to listen for voice input and pass it to the chatbot\n",
    "def listen():\n",
    "    with sr.Microphone() as source:\n",
    "        print(\"Say something!\")\n",
    "        audio = r.listen(source)\n",
    "    \n",
    "    try:\n",
    "        user_input = r.recognize_google(audio)\n",
    "#         user_input = \"please turn on the light in the living room\"\n",
    "        print(\"You said:\", user_input)\n",
    "        objects, locations = process_user_input(user_input)\n",
    "        print(objects, locations)\n",
    "    except sr.UnknownValueError:\n",
    "        print(generate_error_response())\n",
    "    except sr.RequestError as e:\n",
    "        print(\"Sorry, there was an error processing your request. Please try again later.\")\n",
    "\n",
    "# Define a loop to keep the chatbot running and listening for voice input\n",
    "while True:\n",
    "    listen()\n"
   ]
  },
  {
   "cell_type": "code",
   "execution_count": null,
   "id": "9de68122",
   "metadata": {},
   "outputs": [],
   "source": [
    "# txt=\"Hey Lucy, bring me a glass of water from the kitchen. Hey Lucy, get me a blanket from the bedroom. Hey Lucy, bring me a book from the living room. Hey Lucy, get me a snack from the pantry. Hey Lucy, bring me my phone from the charging station. Hey Lucy, get me a towel from the bathroom. Hey Lucy, bring me a pillow from the guest room. Hey Lucy, get me a pair of scissors from the office.\"\n",
    "txt='lucy, bring me my shirt from the bed'\n",
    "doc = nlp_ner(txt)\n",
    "\n",
    "spacy.displacy.render(doc, style=\"ent\", jupyter=True) # display in Jupyter"
   ]
  },
  {
   "cell_type": "code",
   "execution_count": 16,
   "id": "0fd857ff",
   "metadata": {},
   "outputs": [
    {
     "name": "stdout",
     "output_type": "stream",
     "text": [
      "Recording Audio\n",
      "Audio recording complete , Play Audio\n",
      "Audio saved to myrecording.wav\n"
     ]
    }
   ],
   "source": [
    "import sounddevice as sd\n",
    "import numpy as np\n",
    "import scipy.io.wavfile as wav\n",
    "\n",
    "fs=44100\n",
    "duration = 5  # seconds\n",
    "myrecording = sd.rec(duration * fs, samplerate=fs, channels=2,dtype='float64')\n",
    "print (\"Recording Audio\")\n",
    "sd.wait()\n",
    "print (\"Audio recording complete , Play Audio\")\n",
    "sd.play(myrecording, fs)\n",
    "sd.wait()\n",
    "\n",
    "# Save the recorded audio to a WAV file\n",
    "wav.write('myrecording.wav', fs, myrecording)\n",
    "\n",
    "print(\"Audio saved to myrecording.wav\")"
   ]
  },
  {
   "cell_type": "code",
   "execution_count": 13,
   "id": "5e34688e",
   "metadata": {},
   "outputs": [
    {
     "name": "stdout",
     "output_type": "stream",
     "text": [
      "Collecting sounddevice\n",
      "  Downloading sounddevice-0.4.6-py3-none-win_amd64.whl (199 kB)\n",
      "     ---------------------------------------- 0.0/199.7 kB ? eta -:--:--\n",
      "     ----------------------- -------------- 122.9/199.7 kB 7.0 MB/s eta 0:00:01\n",
      "     -------------------------------------- 199.7/199.7 kB 6.1 MB/s eta 0:00:00\n",
      "Requirement already satisfied: CFFI>=1.0 in d:\\anaconda3\\envs\\whisper\\lib\\site-packages (from sounddevice) (1.15.1)\n",
      "Requirement already satisfied: pycparser in d:\\anaconda3\\envs\\whisper\\lib\\site-packages (from CFFI>=1.0->sounddevice) (2.21)\n",
      "Installing collected packages: sounddevice\n",
      "Successfully installed sounddevice-0.4.6\n",
      "Note: you may need to restart the kernel to use updated packages.\n"
     ]
    }
   ],
   "source": [
    "pip install sounddevice"
   ]
  },
  {
   "cell_type": "code",
   "execution_count": 15,
   "id": "312d31f0",
   "metadata": {},
   "outputs": [
    {
     "name": "stdout",
     "output_type": "stream",
     "text": [
      "Collecting scipy\n",
      "  Downloading scipy-1.10.1-cp311-cp311-win_amd64.whl (42.2 MB)\n",
      "     ---------------------------------------- 0.0/42.2 MB ? eta -:--:--\n",
      "     ---------------------------------------- 0.1/42.2 MB 4.5 MB/s eta 0:00:10\n",
      "     ---------------------------------------- 0.2/42.2 MB 3.1 MB/s eta 0:00:14\n",
      "     ---------------------------------------- 0.4/42.2 MB 3.7 MB/s eta 0:00:12\n",
      "      --------------------------------------- 0.6/42.2 MB 4.1 MB/s eta 0:00:11\n",
      "     - -------------------------------------- 1.1/42.2 MB 5.2 MB/s eta 0:00:08\n",
      "     - -------------------------------------- 1.6/42.2 MB 6.5 MB/s eta 0:00:07\n",
      "     -- ------------------------------------- 2.2/42.2 MB 7.6 MB/s eta 0:00:06\n",
      "     -- ------------------------------------- 2.6/42.2 MB 7.8 MB/s eta 0:00:06\n",
      "     -- ------------------------------------- 3.1/42.2 MB 8.6 MB/s eta 0:00:05\n",
      "     --- ------------------------------------ 3.7/42.2 MB 8.4 MB/s eta 0:00:05\n",
      "     ---- ----------------------------------- 4.3/42.2 MB 9.2 MB/s eta 0:00:05\n",
      "     ---- ----------------------------------- 5.2/42.2 MB 10.0 MB/s eta 0:00:04\n",
      "     ----- ---------------------------------- 5.9/42.2 MB 10.1 MB/s eta 0:00:04\n",
      "     ------ --------------------------------- 6.6/42.2 MB 10.6 MB/s eta 0:00:04\n",
      "     ------ --------------------------------- 7.2/42.2 MB 11.0 MB/s eta 0:00:04\n",
      "     ------- -------------------------------- 7.9/42.2 MB 11.3 MB/s eta 0:00:04\n",
      "     -------- ------------------------------- 8.5/42.2 MB 11.1 MB/s eta 0:00:04\n",
      "     -------- ------------------------------- 9.3/42.2 MB 11.4 MB/s eta 0:00:03\n",
      "     --------- ------------------------------ 9.6/42.2 MB 11.6 MB/s eta 0:00:03\n",
      "     --------- ----------------------------- 10.6/42.2 MB 13.1 MB/s eta 0:00:03\n",
      "     ---------- ---------------------------- 11.6/42.2 MB 14.6 MB/s eta 0:00:03\n",
      "     ----------- --------------------------- 12.2/42.2 MB 14.6 MB/s eta 0:00:03\n",
      "     ----------- --------------------------- 12.7/42.2 MB 14.9 MB/s eta 0:00:02\n",
      "     ------------ -------------------------- 13.6/42.2 MB 14.9 MB/s eta 0:00:02\n",
      "     ------------ -------------------------- 14.0/42.2 MB 14.9 MB/s eta 0:00:02\n",
      "     ------------- ------------------------- 14.4/42.2 MB 14.9 MB/s eta 0:00:02\n",
      "     ------------- ------------------------- 14.9/42.2 MB 14.6 MB/s eta 0:00:02\n",
      "     -------------- ------------------------ 15.5/42.2 MB 14.6 MB/s eta 0:00:02\n",
      "     -------------- ------------------------ 16.0/42.2 MB 14.2 MB/s eta 0:00:02\n",
      "     --------------- ----------------------- 16.6/42.2 MB 14.2 MB/s eta 0:00:02\n",
      "     --------------- ----------------------- 17.2/42.2 MB 13.6 MB/s eta 0:00:02\n",
      "     ---------------- ---------------------- 17.8/42.2 MB 13.4 MB/s eta 0:00:02\n",
      "     ---------------- ---------------------- 18.4/42.2 MB 14.2 MB/s eta 0:00:02\n",
      "     ------------------ -------------------- 19.5/42.2 MB 14.2 MB/s eta 0:00:02\n",
      "     ------------------ -------------------- 19.7/42.2 MB 13.6 MB/s eta 0:00:02\n",
      "     ------------------ -------------------- 20.5/42.2 MB 13.6 MB/s eta 0:00:02\n",
      "     ------------------- ------------------- 20.9/42.2 MB 13.6 MB/s eta 0:00:02\n",
      "     ------------------- ------------------- 21.6/42.2 MB 13.4 MB/s eta 0:00:02\n",
      "     -------------------- ------------------ 22.1/42.2 MB 13.1 MB/s eta 0:00:02\n",
      "     -------------------- ------------------ 22.5/42.2 MB 12.6 MB/s eta 0:00:02\n",
      "     --------------------- ----------------- 23.4/42.2 MB 13.1 MB/s eta 0:00:02\n",
      "     ---------------------- ---------------- 23.8/42.2 MB 12.6 MB/s eta 0:00:02\n",
      "     ----------------------- --------------- 25.0/42.2 MB 13.6 MB/s eta 0:00:02\n",
      "     ----------------------- --------------- 25.7/42.2 MB 13.9 MB/s eta 0:00:02\n",
      "     ------------------------ -------------- 26.4/42.2 MB 14.2 MB/s eta 0:00:02\n",
      "     ------------------------ -------------- 26.8/42.2 MB 14.6 MB/s eta 0:00:02\n",
      "     ------------------------- ------------- 27.3/42.2 MB 14.2 MB/s eta 0:00:02\n",
      "     ------------------------- ------------- 28.0/42.2 MB 14.9 MB/s eta 0:00:01\n",
      "     -------------------------- ------------ 28.7/42.2 MB 14.6 MB/s eta 0:00:01\n",
      "     --------------------------- ----------- 29.3/42.2 MB 14.6 MB/s eta 0:00:01\n",
      "     --------------------------- ----------- 30.1/42.2 MB 14.9 MB/s eta 0:00:01\n",
      "     ---------------------------- ---------- 31.1/42.2 MB 14.9 MB/s eta 0:00:01\n",
      "     ----------------------------- --------- 31.8/42.2 MB 14.9 MB/s eta 0:00:01\n",
      "     ------------------------------ -------- 32.8/42.2 MB 16.4 MB/s eta 0:00:01\n",
      "     ------------------------------- ------- 33.6/42.2 MB 16.4 MB/s eta 0:00:01\n",
      "     ------------------------------- ------- 34.3/42.2 MB 16.4 MB/s eta 0:00:01\n",
      "     -------------------------------- ------ 35.0/42.2 MB 16.0 MB/s eta 0:00:01\n",
      "     --------------------------------- ----- 35.8/42.2 MB 16.4 MB/s eta 0:00:01\n",
      "     --------------------------------- ----- 36.7/42.2 MB 16.4 MB/s eta 0:00:01\n",
      "     ---------------------------------- ---- 37.3/42.2 MB 16.8 MB/s eta 0:00:01\n",
      "     ----------------------------------- --- 38.0/42.2 MB 16.0 MB/s eta 0:00:01\n",
      "     ----------------------------------- --- 38.9/42.2 MB 16.8 MB/s eta 0:00:01\n",
      "     ------------------------------------ -- 39.5/42.2 MB 16.8 MB/s eta 0:00:01\n",
      "     ------------------------------------- - 40.5/42.2 MB 17.2 MB/s eta 0:00:01\n",
      "     ------------------------------------- - 40.9/42.2 MB 16.8 MB/s eta 0:00:01\n",
      "     --------------------------------------  42.0/42.2 MB 16.8 MB/s eta 0:00:01\n",
      "     --------------------------------------  42.2/42.2 MB 16.8 MB/s eta 0:00:01\n",
      "     --------------------------------------  42.2/42.2 MB 16.8 MB/s eta 0:00:01\n",
      "     --------------------------------------  42.2/42.2 MB 16.8 MB/s eta 0:00:01\n",
      "     --------------------------------------- 42.2/42.2 MB 13.6 MB/s eta 0:00:00\n",
      "Requirement already satisfied: numpy<1.27.0,>=1.19.5 in d:\\anaconda3\\envs\\whisper\\lib\\site-packages (from scipy) (1.24.3)\n",
      "Installing collected packages: scipy\n",
      "Successfully installed scipy-1.10.1\n",
      "Note: you may need to restart the kernel to use updated packages.\n"
     ]
    }
   ],
   "source": [
    "pip install scipy"
   ]
  },
  {
   "cell_type": "code",
   "execution_count": null,
   "id": "c6650d92",
   "metadata": {},
   "outputs": [],
   "source": []
  }
 ],
 "metadata": {
  "kernelspec": {
   "display_name": "Python 3 (ipykernel)",
   "language": "python",
   "name": "python3"
  },
  "language_info": {
   "codemirror_mode": {
    "name": "ipython",
    "version": 3
   },
   "file_extension": ".py",
   "mimetype": "text/x-python",
   "name": "python",
   "nbconvert_exporter": "python",
   "pygments_lexer": "ipython3",
   "version": "3.11.3"
  }
 },
 "nbformat": 4,
 "nbformat_minor": 5
}
